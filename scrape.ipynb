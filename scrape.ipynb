{
 "cells": [
  {
   "cell_type": "code",
   "execution_count": 6,
   "metadata": {},
   "outputs": [],
   "source": [
    "import time\n",
    "from selenium import webdriver\n",
    "from bs4 import BeautifulSoup\n",
    "import pandas as pd\n",
    "from selenium.webdriver.common.by import By\n",
    "from selenium.common.exceptions import NoSuchElementException"
   ]
  },
  {
   "cell_type": "code",
   "execution_count": 9,
   "metadata": {},
   "outputs": [
    {
     "name": "stdout",
     "output_type": "stream",
     "text": [
      "                                         Product Name             Price\n",
      "0   [OLX AUTOS] Chevrolet Trax 1.4 Turbo LTZ Bensi...    Rp 164.000.000\n",
      "1   [OLX AUTOS] Suzuki Ignis 1.2 GX Bensin-AT 2018...    Rp 125.000.000\n",
      "2   [OLX AUTOS] Toyota Camry 2.5 V Bensin-AT 2015 JGC    Rp 230.000.000\n",
      "3   [OLX AUTOS] Toyota Calya 1.2 G Bensin-AT 2017 ERC    Rp 103.000.000\n",
      "4          Renault KWID 1.0 Climber 2019 A/T 1st hand     Rp 99.000.000\n",
      "5   MITSUBISHI XPANDER Km21Rb 2020 GLS ALNEW MANUA...    Rp 168.000.000\n",
      "6                      Mercedes-Benz E300 2010 Bensin    Rp 239.000.000\n",
      "7        MINI COOPER PACEMAN 2014 COLLECTOR ITEM RARE    Rp 425.000.000\n",
      "8   Velg Ring 20 Replika Alpina BMW PCD 5 × 120 / ...      Rp 8.500.000\n",
      "9   Velg Ring 18 OEM Mercedes Benz R230 W230 SL500...      Rp 8.500.000\n",
      "10  Mercedes benz S350 FULL SPEC panoramic rare si...    Rp 215.000.000\n",
      "11                              Avanza G MT 2012 Cash    Rp 105.000.000\n",
      "12                Toyota Corolla Altis 1.8 G A/T 2008    Rp 103.500.000\n",
      "13  Cash! Mercy V220d solar 2016 km low. Vito, vin...    Rp 495.000.000\n",
      "14  Jeep Rubicon rare interior coklat, istimewa lo...  Rp 1.150.000.000\n",
      "15  Audi Q7 3.0 S-line 2014 / 2013 tgn1, gres 2011...    Rp 360.000.000\n",
      "16                Mitsubishi Galant 2003 AT PR cuma 1     Rp 85.000.000\n",
      "17  E 250 Coupe 2012 Putih Interiot Merah Full Ori...    Rp 475.000.000\n",
      "18  KM 35rb nik 14 Mini Cooper S Countryman Panora...    Rp 409.000.000\n",
      "19  [OLX AUTOS] Suzuki Ignis 1.2 GX Bensin-AT 2018...    Rp 125.000.000\n"
     ]
    }
   ],
   "source": [
    "options = webdriver.ChromeOptions()\n",
    "options.add_argument(\"start-maximized\")\n",
    "url = 'https://www.olx.co.id/jakarta-selatan_g4000030/q-mobil'\n",
    "driver = webdriver.Chrome()\n",
    "driver.get(url)\n",
    "\n",
    "for i in range(100): # ubah ini jika ingin scrape lebih banyak (perhatikan code of conduct guys)\n",
    "    time.sleep(3) # ubah ini juga \n",
    "    try:\n",
    "        driver.find_element(By.CSS_SELECTOR, 'div._38O09 > button').click()\n",
    "    except NoSuchElementException:\n",
    "        break\n",
    "time.sleep(4)\n",
    "\n",
    "products=[]\n",
    "soup =  BeautifulSoup(driver.page_source, 'html.parser')\n",
    "for item in soup.findAll('li', class_='_1DNjI'):\n",
    "    product_name = item.find('span', class_='_2poNJ').text\n",
    "    price = item.find('span', class_='_2Ks63').text\n",
    "    locations = item.find('span', class_='_2VQu4').text\n",
    "    products.append(\n",
    "        (product_name, price, locations)\n",
    "    )\n",
    "\n",
    "df = pd.DataFrame(products, columns=['Product Name', 'Price', 'Lokasi'])\n",
    "print(df)\n"
   ]
  },
  {
   "cell_type": "code",
   "execution_count": 10,
   "metadata": {},
   "outputs": [],
   "source": [
    "df.to_csv('hasil_scrape.csv')"
   ]
  }
 ],
 "metadata": {
  "kernelspec": {
   "display_name": "base",
   "language": "python",
   "name": "python3"
  },
  "language_info": {
   "codemirror_mode": {
    "name": "ipython",
    "version": 3
   },
   "file_extension": ".py",
   "mimetype": "text/x-python",
   "name": "python",
   "nbconvert_exporter": "python",
   "pygments_lexer": "ipython3",
   "version": "3.8.8"
  }
 },
 "nbformat": 4,
 "nbformat_minor": 2
}
